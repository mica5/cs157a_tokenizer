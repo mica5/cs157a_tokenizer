{
 "cells": [
  {
   "cell_type": "code",
   "execution_count": 15,
   "metadata": {
    "collapsed": true
   },
   "outputs": [],
   "source": [
    "import re\n",
    "from collections import Counter\n",
    "\n",
    "import spacy"
   ]
  },
  {
   "cell_type": "code",
   "execution_count": 62,
   "metadata": {
    "collapsed": true
   },
   "outputs": [],
   "source": [
    "dictwords = set()"
   ]
  },
  {
   "cell_type": "code",
   "execution_count": 63,
   "metadata": {
    "collapsed": true
   },
   "outputs": [],
   "source": [
    "with open('/usr/share/dict/words', 'r') as fr:\n",
    "    for line in fr:\n",
    "        dictwords.add(line.strip().lower())"
   ]
  },
  {
   "cell_type": "code",
   "execution_count": 4,
   "metadata": {
    "collapsed": true
   },
   "outputs": [],
   "source": [
    "nlp = spacy.load('en')"
   ]
  },
  {
   "cell_type": "code",
   "execution_count": 24,
   "metadata": {
    "collapsed": true
   },
   "outputs": [],
   "source": [
    "!mate n-concepts-project-document.txt"
   ]
  },
  {
   "cell_type": "code",
   "execution_count": 67,
   "metadata": {},
   "outputs": [
    {
     "name": "stdout",
     "output_type": "stream",
     "text": [
      "approach adds robustness and flexibility to \r",
      "\r\n",
      "approaches- to integrate the robustness of \r",
      "\r\n",
      "(cpu-pwr power-bus) \r",
      "\r\n",
      "(data-lines data-bus) \r",
      "\r\n",
      "(address-lines address-bus)) \r",
      "\r\n",
      "(power power-bus) \r",
      "\r\n",
      "(address address-bus) \r",
      "\r\n",
      "(data data-bus)) \r",
      "\r\n",
      "(power power-bus) \r",
      "\r\n",
      "(address address-bus) \r",
      "\r\n",
      "bus-oriented system. \r",
      "\r\n",
      "signal S would be (data-bus 521, C would be \r",
      "\r\n"
     ]
    }
   ],
   "source": [
    "!grep bus /Users/mica/data/tylin_ieee_papers/tylintxt/tylintxt-1/00013266.txt"
   ]
  },
  {
   "cell_type": "code",
   "execution_count": 98,
   "metadata": {},
   "outputs": [],
   "source": [
    "files = !grep -l neural /Users/mica/data/tylin_ieee_papers/tylintxt/tylintxt-1/*"
   ]
  },
  {
   "cell_type": "code",
   "execution_count": 101,
   "metadata": {},
   "outputs": [
    {
     "data": {
      "text/plain": [
       "74"
      ]
     },
     "execution_count": 101,
     "metadata": {},
     "output_type": "execute_result"
    }
   ],
   "source": [
    "len(files)"
   ]
  },
  {
   "cell_type": "markdown",
   "metadata": {},
   "source": [
    "can consider only directly-adjacent words, or skip grams. currently it's just considering directly adjacent words."
   ]
  },
  {
   "cell_type": "code",
   "execution_count": 100,
   "metadata": {},
   "outputs": [
    {
     "name": "stdout",
     "output_type": "stream",
     "text": [
      "CPU times: user 10min 49s, sys: 2.84 s, total: 10min 51s\n",
      "Wall time: 2min 44s\n"
     ]
    }
   ],
   "source": [
    "%%time\n",
    "c = Counter()\n",
    "for file in files:\n",
    "    with open(file, 'r') as fr:\n",
    "        for sentence in re.split(r'\\.+', fr.read().lower()):\n",
    "            tokens = nlp(sentence.strip())\n",
    "            for i in range(len(tokens)-1):\n",
    "#             for i in range(len(tokens)):\n",
    "                t1 = tokens[i]\n",
    "                if (not t1.text.strip()) or t1.is_punct:\n",
    "                    continue\n",
    "\n",
    "#                 for j in range(i+1, len(tokens)):\n",
    "#                 t2 = tokens[j]\n",
    "                t2 = tokens[i+1]\n",
    "                if (not t2.text.strip()) or t2.is_punct:\n",
    "                    continue\n",
    "\n",
    "                # make sure at least one of the words isn't a stopword\n",
    "                if False not in (t1.is_stop, t2.is_stop):\n",
    "                    continue\n",
    "\n",
    "                # make sure we don't just have a couple letters or empty strings\n",
    "                if len(t1.text) < 2 and len(t2.text) < 2:\n",
    "                    continue\n",
    "\n",
    "                # make sure at least one word is a dictword\n",
    "                if t1.text not in dictwords and t2.text not in dictwords:\n",
    "                    continue\n",
    "\n",
    "                c[(t1.text, t2.text)] += 1"
   ]
  },
  {
   "cell_type": "code",
   "execution_count": 104,
   "metadata": {
    "scrolled": false
   },
   "outputs": [
    {
     "data": {
      "text/plain": [
       "[(('th', 'e'), 639),\n",
       " (('t', 'ion'), 537),\n",
       " (('number', 'of'), 445),\n",
       " (('association', 'rules'), 396),\n",
       " (('set', 'of'), 318),\n",
       " (('based', 'on'), 253),\n",
       " (('neural', 'network'), 243),\n",
       " (('data', 'mining'), 213),\n",
       " (('the', 'number'), 210),\n",
       " (('da', 'ta'), 200),\n",
       " (('the', 'data'), 176),\n",
       " (('neural', 'networks'), 161),\n",
       " (('a', 'set'), 156),\n",
       " (('this', 'paper'), 155),\n",
       " (('association', 'rule'), 154),\n",
       " (('th', 'is'), 151),\n",
       " (('t', 'is'), 148),\n",
       " (('of', 'rules'), 147),\n",
       " (('the', 'network'), 140),\n",
       " (('th', 'i'), 136),\n",
       " (('fo', 'r'), 135),\n",
       " (('proceedings', 'of'), 131),\n",
       " (('of', 'data'), 127),\n",
       " (('in', 'order'), 127),\n",
       " (('t', 'ions'), 126),\n",
       " (('tha', 't'), 126),\n",
       " (('shown', 'in'), 123),\n",
       " (('the', 'input'), 115),\n",
       " (('the', 'following'), 114),\n",
       " (('order', 'to'), 113),\n",
       " (('f', 'the'), 113),\n",
       " (('the', 'rule'), 107),\n",
       " (('in', 't'), 106),\n",
       " (('the', 'fuzzy'), 105),\n",
       " (('according', 'to'), 101),\n",
       " (('t', 'the'), 100),\n",
       " (('value', 'of'), 100),\n",
       " (('i', 've'), 99),\n",
       " (('a', 'new'), 99),\n",
       " (('in', 'ing'), 97),\n",
       " (('in', 'figure'), 97),\n",
       " (('inpu', 't'), 94),\n",
       " (('conference', 'on'), 94),\n",
       " (('of', 'th'), 93),\n",
       " (('t', 'of'), 92),\n",
       " (('t', 'ing'), 92),\n",
       " (('ru', 'les'), 91),\n",
       " (('i', 'ty'), 90),\n",
       " (('i', 'th'), 87),\n",
       " (('of', 't'), 87)]"
      ]
     },
     "execution_count": 104,
     "metadata": {},
     "output_type": "execute_result"
    }
   ],
   "source": [
    "c.most_common(50)"
   ]
  },
  {
   "cell_type": "code",
   "execution_count": 89,
   "metadata": {
    "scrolled": false
   },
   "outputs": [
    {
     "name": "stdout",
     "output_type": "stream",
     "text": [
      "(('neural', 'networks'), 10)\n",
      "(('neural', 'vol'), 9)\n",
      "(('of', 'neural'), 8)\n",
      "(('neural', 'the'), 8)\n",
      "(('neural', 'of'), 8)\n",
      "(('a', 'neural'), 7)\n",
      "(('the', 'neural'), 6)\n",
      "(('neural', 'on'), 6)\n",
      "(('neural', 'and'), 6)\n",
      "(('neural', 'network'), 6)\n",
      "(('neural', 'to'), 5)\n",
      "(('memory', 'neural'), 4)\n",
      "(('neural', 'a'), 4)\n",
      "(('neural', 'bound'), 4)\n",
      "(('neural', 'systems'), 3)\n",
      "(('neural', 'in'), 3)\n",
      "(('on', 'neural'), 3)\n",
      "(('neural', '1988'), 3)\n",
      "(('neural', 'tworks'), 3)\n",
      "(('in', 'neural'), 3)\n",
      "(('neural', '5'), 3)\n",
      "(('neural', '2'), 3)\n",
      "(('neural', 'som'), 3)\n",
      "(('neural', 'which'), 2)\n",
      "(('neural', 'proceedings'), 2)\n",
      "(('soutions', 'neural'), 2)\n",
      "(('for', 'neural'), 2)\n",
      "(('neural', 'neural'), 2)\n",
      "(('neural', 'san'), 2)\n",
      "(('neural', 'dwo'), 2)\n",
      "(('neural', 'ca'), 2)\n",
      "(('neural', '1987'), 2)\n",
      "(('and', 'neural'), 2)\n",
      "(('neural', 'ieee'), 2)\n",
      "(('capacity', 'neural'), 2)\n",
      "(('neural', 'wer'), 2)\n",
      "(('neural', 'bounds'), 2)\n",
      "(('neural', 'nethos'), 2)\n",
      "(('neural', 'for'), 2)\n",
      "(('neural', 'd'), 2)\n",
      "(('neural', 'set'), 2)\n",
      "(('neural', 'i'), 2)\n",
      "(('neural', '13'), 2)\n",
      "(('formation', 'neural'), 2)\n",
      "(('is', 'neural'), 2)\n",
      "(('l', 'neural'), 2)\n",
      "(('neural', 'self'), 2)\n",
      "(('neural', 'map'), 2)\n",
      "(('this', 'neural'), 2)\n",
      "(('paper', 'neural'), 2)\n",
      "(('neural', 'knowledge'), 2)\n",
      "(('neural', 'management'), 2)\n",
      "(('among', 'neural'), 1)\n",
      "(('most', 'neural'), 1)\n",
      "(('popular', 'neural'), 1)\n",
      "(('fardlies', 'neural'), 1)\n",
      "(('neural', 'are'), 1)\n",
      "(('neural', 'fly'), 1)\n",
      "(('neural', 'conneded'), 1)\n",
      "(('neural', 'optinization'), 1)\n",
      "(('neural', '71,[151,[191,[28d'), 1)\n",
      "(('neural', 'update'), 1)\n",
      "(('neural', 'their'), 1)\n",
      "(('neural', 'states'), 1)\n",
      "(('neural', 'basis'), 1)\n",
      "(('neural', 'ai'), 1)\n",
      "(('neural', 'b'), 1)\n",
      "(('neural', 'it'), 1)\n",
      "(('neural', 'was'), 1)\n",
      "(('neural', 'physical'), 1)\n",
      "(('neural', 'with'), 1)\n",
      "(('neural', 'emergent'), 1)\n",
      "(('neural', 'colective'), 1)\n",
      "(('neural', 'computational'), 1)\n",
      "(('neural', 'abilties'), 1)\n",
      "(('neural', 'national'), 1)\n",
      "(('neural', 'academy'), 1)\n",
      "(('neural', 'science'), 1)\n",
      "(('neural', 'usa'), 1)\n",
      "(('neural', 'computation'), 1)\n",
      "(('neural', 'decison'), 1)\n",
      "(('neural', 'optimiation'), 1)\n",
      "(('neural', 'problers'), 1)\n",
      "(('neural', 'biological'), 1)\n",
      "(('neural', 'cybemetis'), 1)\n",
      "(('stale', 'neural'), 1)\n",
      "(('space', 'neural'), 1)\n",
      "(('binary', 'neural'), 1)\n",
      "(('neural', 'theoretic'), 1)\n",
      "(('neural', 'american'), 1)\n",
      "(('neural', 'contro'), 1)\n",
      "(('neural', 'cornsrence'), 1)\n",
      "(('neural', 'atanta'), 1)\n",
      "(('neural', 'ga'), 1)\n",
      "(('neural', 'procedings'), 1)\n",
      "(('neural', '1st'), 1)\n",
      "(('neural', 'intemationau'), 1)\n",
      "(('neural', 'corence'), 1)\n",
      "(('networks', 'neural'), 1)\n",
      "(('procedings', 'neural'), 1)\n",
      "(('1st', 'neural'), 1)\n",
      "(('intemationau', 'neural'), 1)\n",
      "(('corence', 'neural'), 1)\n",
      "(('convergence', 'neural'), 1)\n",
      "(('resus', 'neural'), 1)\n",
      "(('hi', 'neural'), 1)\n",
      "(('an', 'neural'), 1)\n",
      "(('associatfe', 'neural'), 1)\n",
      "(('model', 'neural'), 1)\n",
      "(('ualitative', 'neural'), 1)\n",
      "(('analysis', 'neural'), 1)\n",
      "(('syrthesis', 'neural'), 1)\n",
      "(('class', 'neural'), 1)\n",
      "(('neural', 'transations'), 1)\n",
      "(('neural', 'cicits'), 1)\n",
      "(('neural', 'systemns'), 1)\n",
      "(('neural', 'models'), 1)\n",
      "(('neural', 'rigorous'), 1)\n",
      "(('network', 'neural'), 1)\n",
      "(('models', 'neural'), 1)\n",
      "(('rigorous', 'neural'), 1)\n",
      "(('wer', 'neural'), 1)\n",
      "(('bounds', 'neural'), 1)\n",
      "(('editor', 'neural'), 1)\n",
      "(('neural', 'computing'), 1)\n",
      "(('neural', 'new'), 1)\n",
      "(('neural', 'yorkarmercan'), 1)\n",
      "(('neural', 'insttute'), 1)\n",
      "(('neural', 'physics'), 1)\n",
      "(('neural', 'reseh'), 1)\n",
      "(('neural', 'suppored'), 1)\n",
      "(('neural', 'by'), 1)\n",
      "(('neural', 'nsf'), 1)\n",
      "(('neural', 'gr'), 1)\n",
      "(('neural', 'hi'), 1)\n",
      "(('neural', '8810186'), 1)\n",
      "(('neural', '907'), 1)\n",
      "(('neural', 'figur'), 1)\n",
      "(('neural', 'nutrw'), 1)\n",
      "(('neural', 'prodm*m'), 1)\n",
      "(('neural', 'stwp'), 1)\n",
      "(('neural', 'th'), 1)\n",
      "(('neural', 'convernoe'), 1)\n",
      "(('neural', 'steady'), 1)\n",
      "(('neural', 'ste'), 1)\n",
      "(('neural', 'han'), 1)\n",
      "(('neural', 'ealng'), 1)\n",
      "(('neural', 'pnatern'), 1)\n",
      "(('neural', 'fbi'), 1)\n",
      "(('neural', 'b2'), 1)\n",
      "(('neural', '83'), 1)\n",
      "(('neural', 'bwer'), 1)\n",
      "(('neural', 'ithal'), 1)\n",
      "(('neural', 'hamrig1'), 1)\n",
      "(('neural', 'tqper'), 1)\n",
      "(('neural', 'hal'), 1)\n",
      "(('neural', 'ha'), 1)\n",
      "(('neural', 'g'), 1)\n",
      "(('neural', 'distance'), 1)\n",
      "(('neural', 'arce'), 1)\n",
      "(('neural', '4'), 1)\n",
      "(('neural', 'upper'), 1)\n",
      "(('neural', 'nital'), 1)\n",
      "(('neural', 'ham*g'), 1)\n",
      "(('neural', 'as'), 1)\n",
      "(('neural', 'bi'), 1)\n",
      "(('neural', 'ii'), 1)\n",
      "(('neural', 'iaming'), 1)\n",
      "(('neural', 'e'), 1)\n",
      "(('neural', 'assnn'), 1)\n",
      "(('neural', 'references'), 1)\n",
      "(('neural', 'ifrt'), 1)\n",
      "(('neural', 'aarts'), 1)\n",
      "(('neural', 'eh'), 1)\n",
      "(('absolute', 'neural'), 1)\n",
      "(('stability', 'neural'), 1)\n",
      "(('global', 'neural'), 1)\n",
      "(('pattem', 'neural'), 1)\n",
      "(('parallel', 'neural'), 1)\n",
      "(('storage', 'neural'), 1)\n",
      "(('by', 'neural'), 1)\n",
      "(('neural', 'transacdons'), 1)\n",
      "(('neural', 'aman'), 1)\n",
      "(('neural', 'cybemetc'), 1)\n",
      "(('nonlinear', 'neural'), 1)\n",
      "(('neural', 'netw'), 1)\n",
      "(('neural', 'pric@es'), 1)\n",
      "(('neural', 'meclhitsat'), 1)\n",
      "(('neural', 'ard'), 1)\n",
      "(('neural', 'neuraineoks'), 1)\n",
      "(('neural', '1'), 1)\n",
      "(('extracted', 'neural'), 1)\n",
      "(('knowledge', 'neural'), 1)\n",
      "(('expressed', 'neural'), 1)\n",
      "(('as', 'neural'), 1)\n",
      "(('mode', 'neural'), 1)\n",
      "(('or', 'neural'), 1)\n",
      "(('pattern', 'neural'), 1)\n",
      "(('ike', 'neural'), 1)\n",
      "(('sets', 'neural'), 1)\n",
      "(('rules', 'neural'), 1)\n",
      "(('neural', 'ne'), 1)\n",
      "(('neural', 'o'), 1)\n",
      "(('neural', 'r'), 1)\n",
      "(('neural', 'clusters'), 1)\n",
      "(('neural', 'instance'), 1)\n",
      "(('one', 'neural'), 1)\n",
      "(('clustering', 'neural'), 1)\n",
      "(('module', 'neural'), 1)\n",
      "(('based', 'neural'), 1)\n",
      "(('neural', 'organization'), 1)\n",
      "(('neural', 'performs'), 1)\n",
      "(('neural', 'grouping'), 1)\n",
      "(('neural', 'tasks'), 1)\n",
      "(('neural', 'tremendous'), 1)\n",
      "(('neural', 'number'), 1)\n",
      "(('neural', 'database'), 1)\n",
      "(('neural', 'records'), 1)\n",
      "(('however', 'neural'), 1)\n",
      "(('neural', 'organizing'), 1)\n",
      "(('neural', 'will'), 1)\n",
      "(('neural', 'be'), 1)\n",
      "(('neural', 'applied'), 1)\n",
      "(('neural', 'cluster'), 1)\n",
      "(('neural', 'customer'), 1)\n",
      "(('neural', 'characters'), 1)\n",
      "(('neural', 'order'), 1)\n",
      "(('neural', 'discovery'), 1)\n",
      "(('neural', 'more'), 1)\n",
      "(('neural', 'experiences'), 1)\n",
      "(('neural', 'improve'), 1)\n",
      "(('neural', 'quality'), 1)\n",
      "(('neural', 'performance'), 1)\n",
      "(('neural', 'business'), 1)\n",
      "(('segmentation', 'neural'), 1)\n",
      "(('online', 'neural'), 1)\n",
      "(('shopping', 'neural'), 1)\n",
      "(('market', 'neural'), 1)\n",
      "(('using', 'neural'), 1)\n",
      "(('4', 'neural'), 1)\n",
      "(('conclusion', 'neural'), 1)\n",
      "(('has', 'neural'), 1)\n",
      "(('briefly', 'neural'), 1)\n",
      "(('described', 'neural'), 1)\n",
      "(('how', 'neural'), 1)\n",
      "(('to', 'neural'), 1)\n",
      "(('integrate', 'neural'), 1)\n",
      "(('neural', 'rough'), 1)\n",
      "(('neural', 'theory'), 1)\n",
      "(('neural', 'discover'), 1)\n",
      "(('neural', 'association'), 1)\n",
      "(('neural', 'rules'), 1)\n",
      "(('neural', 'support'), 1)\n",
      "(('generalized', 'neural'), 1)\n",
      "(('part', 'neural'), 1)\n",
      "(('family', 'neural'), 1)\n",
      "(('through', 'neural'), 1)\n",
      "(('fuzzy', 'neural'), 1)\n",
      "(('self', 'neural'), 1)\n",
      "(('organizing', 'neural'), 1)\n",
      "(('feature', 'neural'), 1)\n",
      "(('map', 'neural'), 1)\n",
      "(('neural', 'information'), 1)\n",
      "(('neural', 'process-'), 1)\n",
      "(('neural', 'ing'), 1)\n",
      "(('neural', 'nips'), 1)\n"
     ]
    }
   ],
   "source": [
    "for l in c.most_common():\n",
    "    t, c = l\n",
    "    if 'neural' in t:\n",
    "        print(l)"
   ]
  },
  {
   "cell_type": "code",
   "execution_count": null,
   "metadata": {
    "collapsed": true
   },
   "outputs": [],
   "source": []
  },
  {
   "cell_type": "code",
   "execution_count": null,
   "metadata": {
    "collapsed": true
   },
   "outputs": [],
   "source": []
  },
  {
   "cell_type": "code",
   "execution_count": null,
   "metadata": {
    "collapsed": true
   },
   "outputs": [],
   "source": []
  },
  {
   "cell_type": "code",
   "execution_count": null,
   "metadata": {
    "collapsed": true
   },
   "outputs": [],
   "source": []
  },
  {
   "cell_type": "code",
   "execution_count": null,
   "metadata": {
    "collapsed": true
   },
   "outputs": [],
   "source": []
  },
  {
   "cell_type": "code",
   "execution_count": null,
   "metadata": {
    "collapsed": true
   },
   "outputs": [],
   "source": []
  },
  {
   "cell_type": "code",
   "execution_count": null,
   "metadata": {
    "collapsed": true
   },
   "outputs": [],
   "source": []
  },
  {
   "cell_type": "code",
   "execution_count": null,
   "metadata": {
    "collapsed": true
   },
   "outputs": [],
   "source": []
  },
  {
   "cell_type": "code",
   "execution_count": null,
   "metadata": {
    "collapsed": true
   },
   "outputs": [],
   "source": []
  },
  {
   "cell_type": "code",
   "execution_count": null,
   "metadata": {
    "collapsed": true
   },
   "outputs": [],
   "source": []
  },
  {
   "cell_type": "code",
   "execution_count": null,
   "metadata": {
    "collapsed": true
   },
   "outputs": [],
   "source": []
  },
  {
   "cell_type": "code",
   "execution_count": null,
   "metadata": {
    "collapsed": true
   },
   "outputs": [],
   "source": []
  }
 ],
 "metadata": {
  "kernelspec": {
   "display_name": "Python (spacy)",
   "language": "python",
   "name": "spacy_kernelspec"
  },
  "language_info": {
   "codemirror_mode": {
    "name": "ipython",
    "version": 3
   },
   "file_extension": ".py",
   "mimetype": "text/x-python",
   "name": "python",
   "nbconvert_exporter": "python",
   "pygments_lexer": "ipython3",
   "version": "3.6.6"
  },
  "toc": {
   "nav_menu": {},
   "number_sections": false,
   "sideBar": true,
   "skip_h1_title": false,
   "toc_cell": false,
   "toc_position": {},
   "toc_section_display": "block",
   "toc_window_display": true
  }
 },
 "nbformat": 4,
 "nbformat_minor": 2
}
